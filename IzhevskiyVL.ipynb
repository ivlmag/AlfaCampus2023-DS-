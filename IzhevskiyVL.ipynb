{
 "cells": [
  {
   "cell_type": "markdown",
   "id": "1c038513",
   "metadata": {},
   "source": [
    "**1. Загрузка**"
   ]
  },
  {
   "cell_type": "code",
   "execution_count": 17,
   "id": "53da0f4d",
   "metadata": {},
   "outputs": [],
   "source": [
    "import csv\n",
    "import pandas as pd \n",
    "import numpy as np\n",
    "import matplotlib.pyplot as plt\n",
    "\n",
    "import urllib.request\n",
    "from collections import Counter\n",
    "\n",
    "import warnings\n",
    "warnings.filterwarnings(\"ignore\")"
   ]
  },
  {
   "cell_type": "code",
   "execution_count": 2,
   "id": "18e27a44",
   "metadata": {},
   "outputs": [],
   "source": [
    "df_train = pd.read_csv('df_train.csv', sep=';')\n",
    "df_test = pd.read_csv('df_test.csv', sep=';')"
   ]
  },
  {
   "cell_type": "markdown",
   "id": "2df19e7d",
   "metadata": {},
   "source": [
    "**2. Предварительный анализ**"
   ]
  },
  {
   "cell_type": "markdown",
   "id": "20180d93",
   "metadata": {},
   "source": [
    "Основные характеристики тренировочного датасета и проверка наличия missing values:"
   ]
  },
  {
   "cell_type": "code",
   "execution_count": 3,
   "id": "c2289130",
   "metadata": {},
   "outputs": [
    {
     "data": {
      "text/plain": [
       "(7033, 3)"
      ]
     },
     "execution_count": 3,
     "metadata": {},
     "output_type": "execute_result"
    }
   ],
   "source": [
    "df_train.shape"
   ]
  },
  {
   "cell_type": "code",
   "execution_count": 4,
   "id": "e52812f2",
   "metadata": {},
   "outputs": [
    {
     "data": {
      "text/html": [
       "<div>\n",
       "<style scoped>\n",
       "    .dataframe tbody tr th:only-of-type {\n",
       "        vertical-align: middle;\n",
       "    }\n",
       "\n",
       "    .dataframe tbody tr th {\n",
       "        vertical-align: top;\n",
       "    }\n",
       "\n",
       "    .dataframe thead th {\n",
       "        text-align: right;\n",
       "    }\n",
       "</style>\n",
       "<table border=\"1\" class=\"dataframe\">\n",
       "  <thead>\n",
       "    <tr style=\"text-align: right;\">\n",
       "      <th></th>\n",
       "      <th>Id</th>\n",
       "      <th>Data</th>\n",
       "      <th>Target</th>\n",
       "    </tr>\n",
       "  </thead>\n",
       "  <tbody>\n",
       "    <tr>\n",
       "      <th>0</th>\n",
       "      <td>0</td>\n",
       "      <td>4814,4814,6010,6011,4814,6011,6011,4814,6011,6...</td>\n",
       "      <td>4814,4814,4814,4814,5411,4814,4814,4814,4814,4814</td>\n",
       "    </tr>\n",
       "    <tr>\n",
       "      <th>1</th>\n",
       "      <td>1</td>\n",
       "      <td>6011,6011,6011,6011,6011,6011,6011,4814,4814,4...</td>\n",
       "      <td>4814,6011,4814,6011,4814,4814,6011,4814,6011,4814</td>\n",
       "    </tr>\n",
       "    <tr>\n",
       "      <th>2</th>\n",
       "      <td>2</td>\n",
       "      <td>8021,6011,6011,6010,4829,4814,6011,6011,6011,6...</td>\n",
       "      <td>6011,6011,6010,4829,4829,6010,6011,6011,4814,6011</td>\n",
       "    </tr>\n",
       "  </tbody>\n",
       "</table>\n",
       "</div>"
      ],
      "text/plain": [
       "   Id                                               Data  \\\n",
       "0   0  4814,4814,6010,6011,4814,6011,6011,4814,6011,6...   \n",
       "1   1  6011,6011,6011,6011,6011,6011,6011,4814,4814,4...   \n",
       "2   2  8021,6011,6011,6010,4829,4814,6011,6011,6011,6...   \n",
       "\n",
       "                                              Target  \n",
       "0  4814,4814,4814,4814,5411,4814,4814,4814,4814,4814  \n",
       "1  4814,6011,4814,6011,4814,4814,6011,4814,6011,4814  \n",
       "2  6011,6011,6010,4829,4829,6010,6011,6011,4814,6011  "
      ]
     },
     "execution_count": 4,
     "metadata": {},
     "output_type": "execute_result"
    }
   ],
   "source": [
    "df_train.head(3)"
   ]
  },
  {
   "cell_type": "code",
   "execution_count": 5,
   "id": "60e1af99",
   "metadata": {},
   "outputs": [
    {
     "data": {
      "text/plain": [
       "(0, 0)"
      ]
     },
     "execution_count": 5,
     "metadata": {},
     "output_type": "execute_result"
    }
   ],
   "source": [
    "sum(df_train['Data'].isnull()), sum(df_train['Target'].isnull())"
   ]
  },
  {
   "cell_type": "markdown",
   "id": "eb6e0dc3",
   "metadata": {},
   "source": [
    "Характеристики транзакций в измерении Data:"
   ]
  },
  {
   "cell_type": "code",
   "execution_count": 6,
   "id": "57f4bd2d",
   "metadata": {},
   "outputs": [
    {
     "name": "stdout",
     "output_type": "stream",
     "text": [
      "Минимальная длина строки: 40\n",
      "Максимальная длина строки: 21101\n",
      "Средняя длина строки: 473\n"
     ]
    }
   ],
   "source": [
    "sequences = [row.split(',') for row in df_train['Data']]\n",
    "minimum = len(min(sequences, key=len))\n",
    "maximum = len(max(sequences, key=len))\n",
    "average = sum([len(sequence) for sequence in sequences])/len(sequences)\n",
    "print('Минимальная длина строки: ' + str(minimum))\n",
    "print('Максимальная длина строки: ' + str(maximum))\n",
    "print('Средняя длина строки: ' + str(round(average)))"
   ]
  },
  {
   "cell_type": "markdown",
   "id": "686850da",
   "metadata": {},
   "source": [
    "Посмотрим на распределение MCC кодов по всему датасету.\n",
    "Для начала создадим функцию-\"переводчик\" MCC кодов с сайта mcc-code.ru (указан в Overview к задаче). Это действие необязательно, но помогает глубже разобраться в данных:"
   ]
  },
  {
   "cell_type": "code",
   "execution_count": 7,
   "id": "4242b63b",
   "metadata": {},
   "outputs": [],
   "source": [
    "def get_definition_mcc(mcc):\n",
    "\t'''Найти описание mcc-кода'''\n",
    "\turl = 'https://www.mcc-codes.ru/code/' + str(mcc)\n",
    "\ttry:\n",
    "\t\twith urllib.request.urlopen(url) as page:\n",
    "\t\t\thtml = page.read().decode(page.headers.get_content_charset())\n",
    "\t\t\ttext_to_find=\"MCC \"+mcc+\": \"\n",
    "\t\t\tstart_index = html.find(text_to_find)\n",
    "\t\t\tend_index = html.find(\"</title>\")\n",
    "\t\t\treturn html[(start_index+len(text_to_find)):end_index]\n",
    "\texcept:\n",
    "\t\treturn \"MCC не найдено или ошибка\""
   ]
  },
  {
   "cell_type": "markdown",
   "id": "99c8de6d",
   "metadata": {},
   "source": [
    "\n",
    "Далее выведем характеристики топ-N MCC кодов (например, для топ-10):"
   ]
  },
  {
   "cell_type": "code",
   "execution_count": 8,
   "id": "8a2c78b5",
   "metadata": {},
   "outputs": [
    {
     "name": "stdout",
     "output_type": "stream",
     "text": [
      "    MCC   Всего  на клиента                                           Описание\n",
      "0  6011  700677       100.0  Финансовые учреждения – снятие наличных автома...\n",
      "1  6010  490602        70.0    Финансовые учреждения – выдача наличных в кассе\n",
      "2  4814  473396        67.0                        Телекоммуникационные услуги\n",
      "3  5411  472408        67.0                  Бакалейные магазины, супермаркеты\n",
      "4  4829  307388        44.0                                  Денежные переводы\n",
      "5  5499  164719        23.0  Различные продовольственные магазины - нигде б...\n",
      "6  5541   68224        10.0  Заправочные станции (с вспомогательными услуга...\n",
      "7  5912   65071         9.0                                             Аптеки\n",
      "8  5331   61833         9.0                             Универсальные магазины\n",
      "9  5812   52029         7.0             Места общественного питания, рестораны\n"
     ]
    }
   ],
   "source": [
    "flatten = [item for row in sequences for item in row]\n",
    "codes = Counter(flatten)\n",
    "\n",
    "N=10\n",
    "top_codes=dict(sorted(codes.items(), key=lambda x:x[1], reverse=True)[:N])\n",
    "codes_df = pd.DataFrame(top_codes.items(), columns=['MCC','Всего'])\n",
    "codes_df['на клиента']=round(codes_df['Всего']/len(df_train['Data']))\n",
    "\n",
    "codes_df['Описание']=list(map(get_definition_mcc, top_codes))\n",
    "\n",
    "print(codes_df)"
   ]
  },
  {
   "cell_type": "markdown",
   "id": "af8ae0ee",
   "metadata": {},
   "source": [
    "\n",
    "В топе, как и ожидалось, коды с ежедневными операциями. При этом они распределены неравномерно:  "
   ]
  },
  {
   "cell_type": "code",
   "execution_count": 9,
   "id": "159f3e21",
   "metadata": {},
   "outputs": [
    {
     "data": {
      "image/png": "[encoded data removed]",
      "text/plain": [
       "<Figure size 800x800 with 1 Axes>"
      ]
     },
     "metadata": {},
     "output_type": "display_data"
    }
   ],
   "source": [
    "labels = list(codes_df['MCC'])\n",
    "labels.append('Прочие')\n",
    "share = list(codes_df['Всего'])\n",
    "other=len(flatten)-sum(codes_df['Всего'])\n",
    "share.append(other)\n",
    "\n",
    "plt.figure(figsize=(8,8))\n",
    "hole=plt.Circle((0, 0), 0.65, facecolor='white')\n",
    "plt.pie(\n",
    "    share, \n",
    "    labels=labels,\n",
    "    labeldistance=0.75,\n",
    "    autopct='%1.f%%',\n",
    "    colors=plt.cm.Pastel1.colors)\n",
    "plt.gcf().gca().add_artist(hole);"
   ]
  },
  {
   "cell_type": "markdown",
   "id": "9539c9c0",
   "metadata": {},
   "source": [
    "Постараемся учесть эти особенности в прогнозировании."
   ]
  },
  {
   "cell_type": "markdown",
   "id": "ae008da2",
   "metadata": {},
   "source": [
    "***3. Прогнозирование на данных тренировочного датасета***"
   ]
  },
  {
   "cell_type": "markdown",
   "id": "0fdf357d",
   "metadata": {},
   "source": [
    "Напишем функцию прогнозирования будущих транзакций. При этом прогнозирование будет выполняться в два этапа:\n",
    "\n",
    "1) Так как коды распределены неравномерно - выделим нужное количество будущих транзакций в пропорции к тому, как часто они встречаются в Data. Учтем возможность смещать чувствительность алгоритма к более новым или старым транзакциям в последовательности датасета\n",
    "\n",
    "2) Распределим равномерно полученные транзации в предсказанной последовательности"
   ]
  },
  {
   "cell_type": "code",
   "execution_count": 10,
   "id": "30d0b56c",
   "metadata": {},
   "outputs": [],
   "source": [
    "def predict_mcc_codes(dataframe,x=0,N=10):\n",
    "\t'''Предсказание будущих транзакций\n",
    "\n",
    "\tПараметры:\n",
    "\tdataframe - объект DataFrame (тренировочный или тестовый)\n",
    "\n",
    "\tx - смещение чувствительности транзакции относительно положения в датасете Data:\n",
    "\t\t0 - без смещения (по умолчанию); \n",
    "\t\t<0 - смещение в сторону более старых транзакций;\n",
    "\t\t>0 - смещение в сторону более новых транзакций\n",
    "\n",
    "\tN - количество требуемых предсказаний (по умолчанию 10)'''\n",
    "\n",
    "\tdataframe['Predicted']=''\n",
    "\tfor line in range(0,len(dataframe)):\n",
    "\t\tseq = dataframe['Data'][line].split(',')\n",
    "\n",
    "\t\tfrequency, prediction_db={},{}\n",
    "\t\tlength_with_x=0\n",
    "\n",
    "\t\t#Этап 1: распределяем N предсказаний пропорционально частоте mcc кодов каждого пользователя\n",
    "\t\t\n",
    "\t\t\"\"\"Подготовка словаря с частотой mcc кодов пользователя с учетом заданного смещения\"\"\"\n",
    "\t\tfor i in range(0,len(seq)):\n",
    "\t\t\tmcc=seq[i]\n",
    "\t\t\tadd_x=1+i*(x/(len(seq)))\n",
    "\t\t\tfrequency[mcc]=add_x if (mcc not in frequency) else (frequency[mcc]+add_x)\n",
    "\t\t\tlength_with_x+=add_x\n",
    "\t\t\n",
    "\t\t\"\"\"Сохраняем N предсказанных транзакций с учетом частоты mcc кодов и заданного смещения \n",
    "\t\tТак как из-за округления транзакций может оказаться меньше N, то остаток\n",
    "\t\tзаполняем самым распространенным кодом.\"\"\"\n",
    "\t\tprediction_db={mcc:(round(freq/length_with_x*N)) for (mcc,freq) in frequency.items()}\n",
    "\t\ttop_mcc=max(set(seq), key=seq.count)\n",
    "\t\twhile sum(prediction_db.values())<N:\n",
    "\t\t\tprediction_db[top_mcc]+=1\n",
    "            \n",
    "\t\t\"\"\"Убираем пустые элементы и сортируем словарь по убыванию числа кодов\"\"\"\n",
    "\t\tprediction_db=dict((mcc,freq) for mcc,freq in prediction_db.items() if freq)\n",
    "\t\tprediction_db=dict(sorted(prediction_db.items(), key=lambda x:x[1], reverse=True))\n",
    "\n",
    "\t\t#Этап 2: полученные будущие транзакции равномерно распределяем в предсказании\n",
    "\n",
    "\t\t\"\"\"Расчет коэффициента равномерного распределения\"\"\"\n",
    "\t\tk=len(prediction_db)/N\n",
    "\n",
    "\t\t\"\"\"Распределяем коды из полученного на первом этапе словаря\"\"\"\n",
    "\t\tprediction=[]\n",
    "\t\twhile sum(prediction_db.values())!=0:\n",
    "\t\t\tfor mcc, n in prediction_db.items():\n",
    "\t\t\t\ttimes=1 if (0<n*k<1) else round(n*k)\n",
    "\t\t\t\tprediction.extend([mcc]*times)\n",
    "\t\t\t\tprediction_db[mcc]-=times\n",
    "\n",
    "\t\tdataframe['Predicted'][line]=','.join(prediction)"
   ]
  },
  {
   "cell_type": "markdown",
   "id": "9f0f3f5a",
   "metadata": {},
   "source": [
    "Функция расчета метрики совпадения:"
   ]
  },
  {
   "cell_type": "code",
   "execution_count": 11,
   "id": "16efd0dc",
   "metadata": {},
   "outputs": [],
   "source": [
    "def apk(actual, predicted, k=10):\n",
    "    if not actual:\n",
    "        return 0.0\n",
    "\n",
    "    if len(predicted)>k:\n",
    "        predicted = predicted[:k]\n",
    "\n",
    "    score = 0.0\n",
    "    num_hits = 0.0\n",
    "\n",
    "    for i,p in enumerate(predicted):\n",
    "        if p in actual and p not in predicted[:i]:\n",
    "            num_hits += 1.0\n",
    "            score += num_hits / (i+1.0)\n",
    "\n",
    "    return score / min(len(actual), k)\n",
    "\n",
    "def mapk(actual, predicted, k=10):\n",
    "    return np.mean([apk(a,p,k) for a,p in zip(actual, predicted)])"
   ]
  },
  {
   "cell_type": "markdown",
   "id": "4ae84dd5",
   "metadata": {},
   "source": [
    "По умолчанию написанная функция дает следующий результат:"
   ]
  },
  {
   "cell_type": "code",
   "execution_count": 12,
   "id": "ecc74822",
   "metadata": {},
   "outputs": [
    {
     "data": {
      "text/plain": [
       "0.38751058501982716"
      ]
     },
     "execution_count": 12,
     "metadata": {},
     "output_type": "execute_result"
    }
   ],
   "source": [
    "predict_mcc_codes(dataframe=df_train)\n",
    "mapk(df_train['Target'], df_train['Predicted'])"
   ]
  },
  {
   "cell_type": "markdown",
   "id": "0deb2854",
   "metadata": {},
   "source": [
    "Как упоминалось выше, функция позволяет смещать расчет частоты вхождения mcc-кодов в последовательности клиента. Можно выдвинуть три гипотезы:\n",
    "1) Чем дольше транзакция не встречалась, тем вероятнее, что она возникнет в предсказанной последовательности (смещение к более старым транзакциям в последовательности, параметр **x<0**)\n",
    "\n",
    "2) Транзакции встречаются равномерно (без смещения, параметр **x=0**)\n",
    "\n",
    "3) Последние транзакции пользователя лучше отражают будущую последовательность (смещение к более новым транзакциям в последовательности, параметр **x>0**) \n",
    "\n",
    "Рассчитаем метрики относительно гипотез:"
   ]
  },
  {
   "cell_type": "code",
   "execution_count": 13,
   "id": "aa93f233",
   "metadata": {},
   "outputs": [],
   "source": [
    "results={}\n",
    "for x in range(-100,100,5):\n",
    "\tpredict_mcc_codes(dataframe=df_train,x=x)\n",
    "\tresults[x]=mapk(df_train['Target'], df_train['Predicted'])"
   ]
  },
  {
   "cell_type": "code",
   "execution_count": 14,
   "id": "45f54113",
   "metadata": {},
   "outputs": [
    {
     "data": {
      "image/png": "[encoded data removed]",
      "text/plain": [
       "<Figure size 640x480 with 1 Axes>"
      ]
     },
     "metadata": {},
     "output_type": "display_data"
    }
   ],
   "source": [
    "plt.plot(\n",
    "    results.keys(), \n",
    "    results.values());"
   ]
  },
  {
   "cell_type": "markdown",
   "id": "654857e9",
   "metadata": {},
   "source": [
    "Топ результатов:"
   ]
  },
  {
   "cell_type": "code",
   "execution_count": 15,
   "id": "fb97609f",
   "metadata": {},
   "outputs": [
    {
     "data": {
      "text/plain": [
       "[(-5, 0.3901175636850313),\n",
       " (-10, 0.38938780104676585),\n",
       " (-15, 0.38927958671027063)]"
      ]
     },
     "execution_count": 15,
     "metadata": {},
     "output_type": "execute_result"
    }
   ],
   "source": [
    "sorted_results = dict(sorted(results.items(), key=lambda x:x[1], reverse=True))\n",
    "list(sorted_results.items())[:3]"
   ]
  },
  {
   "cell_type": "markdown",
   "id": "a9345656",
   "metadata": {},
   "source": [
    "Смещение относительно **х=0** улучшает результат, причем отрицательные значения коэффициента **х** - в большей степени.\n",
    "Таким образом, более верной оказывается гипотеза 1 - покупки в точках с mcc-кодами, которые чуть дольше обычного не встречались в последовательности, с большей вероятностью возникнут в следующих покупках. Однако сильное смещение в ту или иную сторону ухудшает прогноз и выводит показатель на \"плато\" в ≈0,389."
   ]
  },
  {
   "cell_type": "markdown",
   "id": "44f9dc5f",
   "metadata": {},
   "source": [
    "***4. Прогнозирование на тестовом датасете и сохранение данных***"
   ]
  },
  {
   "cell_type": "markdown",
   "id": "d3891cc2",
   "metadata": {},
   "source": [
    "Сохраним несколько сценариев с учетом топ результатов по коэффициенту смещения **х**:"
   ]
  },
  {
   "cell_type": "code",
   "execution_count": 16,
   "id": "37e321fe",
   "metadata": {},
   "outputs": [],
   "source": [
    "for x in [-5,-10,-15]:\n",
    "\tpredict_mcc_codes(dataframe=df_test,x=x)\n",
    "\n",
    "\tsubmission=df_test[['Id','Predicted']]\n",
    "\tsubmission['Predicted']=submission.Predicted.astype(str).str.replace(',',' ')\n",
    "\tsubmission['Predicted']='['+submission['Predicted']+']'\n",
    "\tfilename = 'submission Izhevskiy X ' + str(x) + '.csv'\n",
    "\tsubmission.to_csv(filename, index=False,quoting=csv.QUOTE_NONE)"
   ]
  },
  {
   "cell_type": "code",
   "execution_count": null,
   "id": "f8a8bd72",
   "metadata": {},
   "outputs": [],
   "source": []
  }
 ],
 "metadata": {
  "kernelspec": {
   "display_name": "Python 3 (ipykernel)",
   "language": "python",
   "name": "python3"
  },
  "language_info": {
   "codemirror_mode": {
    "name": "ipython",
    "version": 3
   },
   "file_extension": ".py",
   "mimetype": "text/x-python",
   "name": "python",
   "nbconvert_exporter": "python",
   "pygments_lexer": "ipython3",
   "version": "3.12.0"
  }
 },
 "nbformat": 4,
 "nbformat_minor": 5
}
